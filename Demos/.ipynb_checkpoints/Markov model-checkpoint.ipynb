{
 "cells": [
  {
   "cell_type": "code",
   "execution_count": null,
   "metadata": {},
   "outputs": [],
   "source": [
    "import pickle\n",
    "import random\n",
    "from IPython import display\n",
    "from ipywidgets.widgets.interaction import show_inline_matplotlib_plots\n",
    "\n",
    "import matplotlib.pyplot as plt\n",
    "%matplotlib inline"
   ]
  },
  {
   "cell_type": "code",
   "execution_count": null,
   "metadata": {},
   "outputs": [],
   "source": [
    "with open('3word_model.pkl', 'rb') as f:\n",
    "    memory_size, model = pickle.load(f)"
   ]
  },
  {
   "cell_type": "code",
   "execution_count": null,
   "metadata": {},
   "outputs": [],
   "source": [
    "def main():\n",
    "    state = ''\n",
    "    user_input = ''\n",
    "    out = ''\n",
    "    while user_input == '':\n",
    "        #Clear output\n",
    "        display.clear_output(wait=True)\n",
    "\n",
    "        # Calculate selection statistic\n",
    "        total_counts = sum(model[state].values())\n",
    "        total_words = len(model[state])\n",
    "        words = [k for k,v in model[state].most_common()][:10]\n",
    "        counts = [v/total_counts for k,v in model[state].most_common()][:10]\n",
    "        y_pos = list(range(len(words)))[::-1]\n",
    "\n",
    "        #Visualise probability distribution\n",
    "        if total_words > 1:\n",
    "            fig, ax = plt.subplots()\n",
    "            fig.set_size_inches((15,7))\n",
    "            ax.barh(y_pos, counts)\n",
    "            ax.set_yticks(y_pos)\n",
    "            ax.set_yticklabels(words, fontsize=14)\n",
    "            ax.set_title(f'Top {min(total_words, 10)} af {total_words} ord')\n",
    "            fig.show()\n",
    "            display.display(display.Markdown(f'**Hukommelse:** {state}'))\n",
    "            display.display(out.strip())\n",
    "            show_inline_matplotlib_plots()\n",
    "\n",
    "        # Get input from user only when there are more than one option\n",
    "\n",
    "\n",
    "        next_word = random.choices(list(model[state].keys()),\n",
    "                                   list(model[state].values())\n",
    "                                  )[0]\n",
    "\n",
    "        if next_word == 'EOM':\n",
    "            print(out)\n",
    "            break\n",
    "\n",
    "        out += ' ' + next_word\n",
    "        if len(state.split(' ')) == memory_size:\n",
    "            state = ' '.join(state.split(' ')[1:])\n",
    "        if len(state) > 0:\n",
    "            state += ' '\n",
    "        state += next_word\n",
    "\n",
    "        if total_words == 1:\n",
    "            continue\n",
    "        user_input = input()"
   ]
  },
  {
   "cell_type": "code",
   "execution_count": null,
   "metadata": {},
   "outputs": [],
   "source": [
    "main()"
   ]
  }
 ],
 "metadata": {
  "kernelspec": {
   "display_name": "Python 3",
   "language": "python",
   "name": "python3"
  },
  "language_info": {
   "codemirror_mode": {
    "name": "ipython",
    "version": 3
   },
   "file_extension": ".py",
   "mimetype": "text/x-python",
   "name": "python",
   "nbconvert_exporter": "python",
   "pygments_lexer": "ipython3",
   "version": "3.7.5"
  }
 },
 "nbformat": 4,
 "nbformat_minor": 4
}
