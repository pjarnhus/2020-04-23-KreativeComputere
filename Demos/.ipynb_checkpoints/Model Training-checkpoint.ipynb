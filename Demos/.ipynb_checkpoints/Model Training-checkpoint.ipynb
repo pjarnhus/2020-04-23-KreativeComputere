{
 "cells": [
  {
   "cell_type": "code",
   "execution_count": null,
   "metadata": {},
   "outputs": [],
   "source": [
    "import random\n",
    "import collections as clc\n",
    "import pathlib"
   ]
  },
  {
   "cell_type": "code",
   "execution_count": null,
   "metadata": {},
   "outputs": [],
   "source": [
    "memory_size = 12"
   ]
  },
  {
   "cell_type": "code",
   "execution_count": null,
   "metadata": {},
   "outputs": [],
   "source": [
    "model = clc.defaultdict(clc.Counter)"
   ]
  },
  {
   "cell_type": "code",
   "execution_count": null,
   "metadata": {},
   "outputs": [],
   "source": [
    "for story_file in pathlib.Path('data').iterdir():\n",
    "    # Load and standardise file\n",
    "    with open(story_file, 'r') as f:\n",
    "        story = f.readlines()\n",
    "        story = ' '.join([s.strip('\\n').strip() for s in story]).replace('.', '. ').strip()\n",
    "    \n",
    "    # Initialise the state and loop over full story\n",
    "    state = ''\n",
    "    for c in story:\n",
    "        model[state][c] += 1\n",
    "        if len(state) == memory_size:\n",
    "            state = state[1:]\n",
    "        state += c\n",
    "        \n",
    "    model[state]['EOM'] += 1"
   ]
  },
  {
   "cell_type": "code",
   "execution_count": null,
   "metadata": {},
   "outputs": [],
   "source": [
    "import pickle"
   ]
  },
  {
   "cell_type": "code",
   "execution_count": null,
   "metadata": {},
   "outputs": [],
   "source": [
    "with open('12char_model.pkl', 'wb') as f:\n",
    "    pickle.dump((memory_size, model), f)"
   ]
  }
 ],
 "metadata": {
  "kernelspec": {
   "display_name": "Python 3",
   "language": "python",
   "name": "python3"
  },
  "language_info": {
   "codemirror_mode": {
    "name": "ipython",
    "version": 3
   },
   "file_extension": ".py",
   "mimetype": "text/x-python",
   "name": "python",
   "nbconvert_exporter": "python",
   "pygments_lexer": "ipython3",
   "version": "3.7.5"
  }
 },
 "nbformat": 4,
 "nbformat_minor": 4
}
