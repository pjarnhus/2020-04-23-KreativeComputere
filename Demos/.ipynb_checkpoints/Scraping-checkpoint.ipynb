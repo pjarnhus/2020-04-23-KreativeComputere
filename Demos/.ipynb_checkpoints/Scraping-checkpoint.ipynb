{
 "cells": [
  {
   "cell_type": "code",
   "execution_count": null,
   "metadata": {},
   "outputs": [],
   "source": [
    "from bs4 import BeautifulSoup\n",
    "\n",
    "import requests"
   ]
  },
  {
   "cell_type": "code",
   "execution_count": null,
   "metadata": {},
   "outputs": [],
   "source": [
    "def clean_text(html):\n",
    "    p_tags = html.find_all('p')\n",
    "    if len(p_tags) != 3:\n",
    "        print('Different set of p-tags than expected')\n",
    "        return None\n",
    "    text = p_tags[2].text\n",
    "    start_location = text.find('\\r\\n\\n\\xa0\\xa0\\xa0')\n",
    "    if start_location == -1:\n",
    "        print('Did not find start location')\n",
    "        return None\n",
    "    text_clean = (\n",
    "        text[start_location:]\n",
    "        .replace('\\r\\n\\n\\xa0\\xa0\\xa0',' ')\n",
    "        .replace('\\r\\n\\xa0\\xa0\\xa0',' ')\n",
    "    )\n",
    "    stop_location = text_clean.find('\\r\\n\\nH. C. Andersen')\n",
    "    if stop_location == -1:\n",
    "        print('Did not find stop location')\n",
    "        return None\n",
    "    text_clean = text_clean[:stop_location]\n",
    "    return text_clean\n"
   ]
  },
  {
   "cell_type": "code",
   "execution_count": null,
   "metadata": {},
   "outputs": [],
   "source": [
    "raw_html = requests.get(r'http://wayback-01.kb.dk/wayback/20101103141244/http://www2.kb.dk/elib/lit//dan/andersen/eventyr.dsl/listalfa.htm')\n",
    "\n",
    "html = BeautifulSoup(raw_html.content, 'html.parser')"
   ]
  },
  {
   "cell_type": "code",
   "execution_count": null,
   "metadata": {},
   "outputs": [],
   "source": [
    "story_links = [l.get('href') for l in html.find_all('p')[1].find_all('a') if l.get('href').find('hcaev')>-1]"
   ]
  },
  {
   "cell_type": "code",
   "execution_count": null,
   "metadata": {
    "scrolled": true
   },
   "outputs": [],
   "source": [
    "for n, link in enumerate(story_links):\n",
    "    print(f'{n} of {len(story_links)}')\n",
    "    raw_html = requests.get(link)\n",
    "    html = BeautifulSoup(raw_html.content, 'html.parser')\n",
    "    cleaned_text = clean_text(html)\n",
    "    if cleaned_text is None:\n",
    "        continue\n",
    "    with open(f'{n}.txt', 'w') as f:\n",
    "        f.write(cleaned_text)"
   ]
  }
 ],
 "metadata": {
  "kernelspec": {
   "display_name": "Python 3",
   "language": "python",
   "name": "python3"
  },
  "language_info": {
   "codemirror_mode": {
    "name": "ipython",
    "version": 3
   },
   "file_extension": ".py",
   "mimetype": "text/x-python",
   "name": "python",
   "nbconvert_exporter": "python",
   "pygments_lexer": "ipython3",
   "version": "3.7.5"
  }
 },
 "nbformat": 4,
 "nbformat_minor": 4
}
